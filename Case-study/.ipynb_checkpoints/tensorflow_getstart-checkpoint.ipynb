{
 "cells": [
  {
   "cell_type": "markdown",
   "metadata": {},
   "source": [
    "### Get start with iris dataset"
   ]
  },
  {
   "cell_type": "code",
   "execution_count": 58,
   "metadata": {},
   "outputs": [],
   "source": [
    "from __future__ import absolute_import\n",
    "from __future__ import division\n",
    "from __future__ import print_function\n",
    "\n",
    "import argparse\n",
    "import tensorflow as tf\n",
    "import pandas as pd"
   ]
  },
  {
   "cell_type": "code",
   "execution_count": 60,
   "metadata": {},
   "outputs": [],
   "source": [
    "## Load iris dataset\n",
    "\n",
    "TRAIN_URL = \"http://download.tensorflow.org/data/iris_training.csv\"\n",
    "TEST_URL = \"http://download.tensorflow.org/data/iris_test.csv\"\n",
    "\n",
    "CSV_COLUMN_NAMES = ['SepalLength', 'SepalWidth',\n",
    "                    'PetalLength', 'PetalWidth', 'Species']\n",
    "\n",
    "def load_data(label_name='Species'):\n",
    "    \"\"\"Parses the csv file in TRAIN_URL and TEST_URL.\"\"\"\n",
    "\n",
    "    train_path = tf.keras.utils.get_file(fname=TRAIN_URL.split('/')[-1],\n",
    "                                         origin=TRAIN_URL)\n",
    "    # train_path now holds the pathname: ~/.keras/datasets/iris_training.csv\n",
    "\n",
    "    train = pd.read_csv(filepath_or_buffer=train_path,\n",
    "                        names=CSV_COLUMN_NAMES,\n",
    "                        header=0)\n",
    "    train_features, train_label = train, train.pop(label_name)\n",
    "\n",
    "    test_path = tf.keras.utils.get_file(TEST_URL.split('/')[-1], TEST_URL)\n",
    "    test = pd.read_csv(test_path, \n",
    "                       names=CSV_COLUMN_NAMES, \n",
    "                       header=0)\n",
    "    test_features, test_label = test, test.pop(label_name)\n",
    "\n",
    "\n",
    "    return (train_features, train_label), (test_features, test_label)\n",
    "\n",
    "(train_feature, train_label), (test_feature, test_label) = load_data()"
   ]
  },
  {
   "cell_type": "code",
   "execution_count": 61,
   "metadata": {},
   "outputs": [
    {
     "name": "stdout",
     "output_type": "stream",
     "text": [
      "INFO:tensorflow:Using default config.\n",
      "WARNING:tensorflow:Using temporary folder as model directory: /var/folders/9r/rtf8mwj90551dp6rwnn9j8xr0000gn/T/tmpgFXE6J\n",
      "INFO:tensorflow:Using config: {'_save_checkpoints_secs': 600, '_session_config': None, '_keep_checkpoint_max': 5, '_task_type': 'worker', '_is_chief': True, '_cluster_spec': <tensorflow.python.training.server_lib.ClusterSpec object at 0x181a5a6450>, '_save_checkpoints_steps': None, '_keep_checkpoint_every_n_hours': 10000, '_service': None, '_num_ps_replicas': 0, '_tf_random_seed': None, '_master': '', '_num_worker_replicas': 1, '_task_id': 0, '_log_step_count_steps': 100, '_model_dir': '/var/folders/9r/rtf8mwj90551dp6rwnn9j8xr0000gn/T/tmpgFXE6J', '_save_summary_steps': 100}\n"
     ]
    }
   ],
   "source": [
    "## Classifier\n",
    "\n",
    "my_feature_columns = [tf.feature_column.numeric_column(key=key) \n",
    "                      for key in train_feature.keys()]\n",
    "\n",
    "classifier = tf.estimator.DNNClassifier(\n",
    "        feature_columns=my_feature_columns,\n",
    "        hidden_units=[10, 10],\n",
    "        n_classes=3)"
   ]
  },
  {
   "cell_type": "code",
   "execution_count": 62,
   "metadata": {},
   "outputs": [
    {
     "name": "stdout",
     "output_type": "stream",
     "text": [
      "INFO:tensorflow:Create CheckpointSaverHook.\n",
      "INFO:tensorflow:Saving checkpoints for 1 into /var/folders/9r/rtf8mwj90551dp6rwnn9j8xr0000gn/T/tmpgFXE6J/model.ckpt.\n",
      "INFO:tensorflow:loss = 212.84041, step = 1\n",
      "INFO:tensorflow:global_step/sec: 543.815\n",
      "INFO:tensorflow:loss = 28.603666, step = 101 (0.186 sec)\n",
      "INFO:tensorflow:global_step/sec: 710.071\n",
      "INFO:tensorflow:loss = 17.038551, step = 201 (0.141 sec)\n",
      "INFO:tensorflow:global_step/sec: 697.628\n",
      "INFO:tensorflow:loss = 11.513592, step = 301 (0.143 sec)\n",
      "INFO:tensorflow:global_step/sec: 545.569\n",
      "INFO:tensorflow:loss = 8.5943165, step = 401 (0.184 sec)\n",
      "INFO:tensorflow:global_step/sec: 560.045\n",
      "INFO:tensorflow:loss = 7.9833302, step = 501 (0.179 sec)\n",
      "INFO:tensorflow:global_step/sec: 647.128\n",
      "INFO:tensorflow:loss = 6.145497, step = 601 (0.154 sec)\n",
      "INFO:tensorflow:global_step/sec: 540.605\n",
      "INFO:tensorflow:loss = 7.02843, step = 701 (0.187 sec)\n",
      "INFO:tensorflow:global_step/sec: 530.105\n",
      "INFO:tensorflow:loss = 4.398101, step = 801 (0.187 sec)\n",
      "INFO:tensorflow:global_step/sec: 539.223\n",
      "INFO:tensorflow:loss = 4.198464, step = 901 (0.185 sec)\n",
      "INFO:tensorflow:Saving checkpoints for 1000 into /var/folders/9r/rtf8mwj90551dp6rwnn9j8xr0000gn/T/tmpgFXE6J/model.ckpt.\n",
      "INFO:tensorflow:Loss for final step: 4.8500834.\n"
     ]
    },
    {
     "data": {
      "text/plain": [
       "<tensorflow.python.estimator.canned.dnn.DNNClassifier at 0x181a3be510>"
      ]
     },
     "execution_count": 62,
     "metadata": {},
     "output_type": "execute_result"
    }
   ],
   "source": [
    "## Train the model\n",
    "\n",
    "def train_input_fn(features, labels, batch_size):\n",
    "    dataset = tf.data.Dataset.from_tensor_slices((dict(features), labels))\n",
    "    dataset = dataset.shuffle(buffer_size=1000).repeat(count=None).batch(batch_size)\n",
    "    return dataset.make_one_shot_iterator().get_next()\n",
    "\n",
    "classifier.train(\n",
    "        input_fn=lambda:train_input_fn(train_feature, train_label, 100),\n",
    "        steps=1000)"
   ]
  },
  {
   "cell_type": "code",
   "execution_count": 50,
   "metadata": {},
   "outputs": [
    {
     "name": "stdout",
     "output_type": "stream",
     "text": [
      "INFO:tensorflow:Starting evaluation at 2018-04-18-12:04:30\n",
      "INFO:tensorflow:Restoring parameters from /var/folders/9r/rtf8mwj90551dp6rwnn9j8xr0000gn/T/tmpcppwOo/model.ckpt-1100\n",
      "INFO:tensorflow:Finished evaluation at 2018-04-18-12:04:31\n",
      "INFO:tensorflow:Saving dict for global step 1100: accuracy = 0.96666664, average_loss = 0.057569515, global_step = 1100, loss = 0.57569516\n",
      "\n",
      "Test set accuracy: 0.967\n",
      "\n"
     ]
    }
   ],
   "source": [
    "## Evaluate the model\n",
    "\n",
    "def eval_input_fn(features, labels=None, batch_size=None):\n",
    "    \"\"\"An input function for evaluation or prediction\"\"\"\n",
    "    if labels is None:\n",
    "        inputs = dict(features) # input should be a dictionary\n",
    "    else:\n",
    "        inputs = (dict(features), labels)\n",
    "    dataset = tf.data.Dataset.from_tensor_slices(inputs)\n",
    "    assert batch_size is not None, \"batch_size must not be None\"\n",
    "    dataset = dataset.batch(batch_size)\n",
    "    return dataset.make_one_shot_iterator().get_next()\n",
    "\n",
    "eval_result = classifier.evaluate(\n",
    "    input_fn=lambda:eval_input_fn(test_feature, test_label, 10))\n",
    "\n",
    "print('\\nTest set accuracy: {accuracy:0.3f}\\n'.format(**eval_result))"
   ]
  },
  {
   "cell_type": "raw",
   "metadata": {},
   "source": [
    "## Predictions\n",
    "\n",
    "predict_x = {\n",
    "        'SepalLength': [5.1, 5.9, 6.9],\n",
    "        'SepalWidth': [3.3, 3.0, 3.1],\n",
    "        'PetalLength': [1.7, 4.2, 5.4],\n",
    "        'PetalWidth': [0.5, 1.5, 2.1]}\n",
    "\n",
    "\n",
    "predictions = classifier.predict(\n",
    "    input_fn=lambda:eval_input_fn(predict_x,\n",
    "                                  labels=None,\n",
    "                                  batch_size=1))\n",
    "\n",
    "for pred_dict in predictions:\n",
    "    class_id = pred_dict['class_ids'][0]\n",
    "    probability = pred_dict['probabilities'][class_id]\n",
    "    print(\"{:.1f}%\".format(100 * probability), class_id, )"
   ]
  }
 ],
 "metadata": {
  "kernelspec": {
   "display_name": "Python 2",
   "language": "python",
   "name": "python2"
  },
  "language_info": {
   "codemirror_mode": {
    "name": "ipython",
    "version": 2
   },
   "file_extension": ".py",
   "mimetype": "text/x-python",
   "name": "python",
   "nbconvert_exporter": "python",
   "pygments_lexer": "ipython2",
   "version": "2.7.11"
  }
 },
 "nbformat": 4,
 "nbformat_minor": 2
}
