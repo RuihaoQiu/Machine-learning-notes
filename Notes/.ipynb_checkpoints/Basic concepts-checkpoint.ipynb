{
 "cells": [
  {
   "cell_type": "markdown",
   "metadata": {},
   "source": [
    "## Machine learning\n",
    "\n",
    "Machine learning is a subfield of artificial intelligence (AI).\n",
    "Direct interpretation can be \"teach machine to learn from the data\".\n",
    "Fundamentally, machine learning is building models of data by algorithms.\n",
    "The machine learning algorithm can 'train' the model to learn from the data by tuning its parameters. \n",
    "Once the model have complished learning from data, they can be used to predict and understand aspects of newly observed data.\n"
   ]
  },
  {
   "cell_type": "code",
   "execution_count": null,
   "metadata": {
    "collapsed": true
   },
   "outputs": [],
   "source": []
  }
 ],
 "metadata": {
  "anaconda-cloud": {},
  "kernelspec": {
   "display_name": "Python [conda env:py3]",
   "language": "python",
   "name": "conda-env-py3-py"
  },
  "language_info": {
   "codemirror_mode": {
    "name": "ipython",
    "version": 3
   },
   "file_extension": ".py",
   "mimetype": "text/x-python",
   "name": "python",
   "nbconvert_exporter": "python",
   "pygments_lexer": "ipython3",
   "version": "3.5.3"
  }
 },
 "nbformat": 4,
 "nbformat_minor": 0
}
