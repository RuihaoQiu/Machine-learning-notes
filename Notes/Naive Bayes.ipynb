{
 "cells": [
  {
   "cell_type": "markdown",
   "metadata": {},
   "source": [
    "## Bayes’ Theorem \n",
    "Obtain the posterior possibility from the prior, through the formula P(C|x) = P(x|C) * P(C) / P(x), for multi-feature case, P(C|x) = P(C)P(x1|C)P(x2|C)...P(xn|C)/P(x).\n",
    "\n",
    "For a given testing dataset, calculate the posterior possibility of each class, assign this dataset to the class with largest posterior possibility.\n",
    "\n",
    "The prior possibilities can be estimated from Gaussian distribution parameterized by the mean and variance of each class.\n"
   ]
  },
  {
   "cell_type": "code",
   "execution_count": null,
   "metadata": {
    "collapsed": true
   },
   "outputs": [],
   "source": []
  }
 ],
 "metadata": {
  "kernelspec": {
   "display_name": "Python [conda env:py3]",
   "language": "python",
   "name": "conda-env-py3-py"
  },
  "language_info": {
   "codemirror_mode": {
    "name": "ipython",
    "version": 3
   },
   "file_extension": ".py",
   "mimetype": "text/x-python",
   "name": "python",
   "nbconvert_exporter": "python",
   "pygments_lexer": "ipython3",
   "version": "3.5.3"
  }
 },
 "nbformat": 4,
 "nbformat_minor": 0
}
