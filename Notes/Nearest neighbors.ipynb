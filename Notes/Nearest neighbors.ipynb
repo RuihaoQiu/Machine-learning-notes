{
 "cells": [
  {
   "cell_type": "markdown",
   "metadata": {},
   "source": [
    "## K-nearest neighbors (kNN)\n",
    "\n",
    "Pick up a certain point, count k nearest neighbors, this point will be assigned to the classification of the majority. Only one parameter to be considered.\n",
    "\n",
    "k - the number of neighbors.\n",
    "\n",
    "Optimize k:  Small k, non-smooth decision boundary, higher accuracy but lower interpretability; large k, smooth decision boundary, lower accuracy but higher interpretability.\n"
   ]
  },
  {
   "cell_type": "code",
   "execution_count": null,
   "metadata": {
    "collapsed": true
   },
   "outputs": [],
   "source": []
  }
 ],
 "metadata": {
  "kernelspec": {
   "display_name": "Python [conda env:py3]",
   "language": "python",
   "name": "conda-env-py3-py"
  },
  "language_info": {
   "codemirror_mode": {
    "name": "ipython",
    "version": 3
   },
   "file_extension": ".py",
   "mimetype": "text/x-python",
   "name": "python",
   "nbconvert_exporter": "python",
   "pygments_lexer": "ipython3",
   "version": "3.5.3"
  }
 },
 "nbformat": 4,
 "nbformat_minor": 0
}
